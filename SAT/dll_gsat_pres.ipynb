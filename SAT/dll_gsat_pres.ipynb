{
 "cells": [
  {
   "cell_type": "markdown",
   "metadata": {},
   "source": [
    "## Imports"
   ]
  },
  {
   "cell_type": "code",
   "execution_count": null,
   "metadata": {},
   "outputs": [],
   "source": [
    "from random import sample, choice\n",
    "from multiprocessing import Pool\n",
    "from time import time\n",
    "from functools import reduce\n",
    "from matplotlib import pyplot as plt\n",
    "from copy import deepcopy"
   ]
  },
  {
   "cell_type": "markdown",
   "metadata": {},
   "source": [
    "## function \"cnf\"\n",
    "returns a random conjunctive normal form expression"
   ]
  },
  {
   "cell_type": "code",
   "execution_count": null,
   "metadata": {},
   "outputs": [],
   "source": [
    "def cnf(k, m, n):\n",
    "    unique_literals = [i for i in range(1, n+1)]\n",
    "    clauses = []\n",
    "\n",
    "    for i in range(m):\n",
    "        s = sample(unique_literals, k)\n",
    "        s = list(map(lambda l: choice([1, -1]) * l, s))\n",
    "        clauses.append(s)\n",
    "\n",
    "    return clauses"
   ]
  },
  {
   "cell_type": "markdown",
   "metadata": {},
   "source": [
    "## function \"gsat\"\n",
    "Implements the gsat algorithm"
   ]
  },
  {
   "cell_type": "code",
   "execution_count": null,
   "metadata": {},
   "outputs": [],
   "source": [
    "def gsat(clauses, max_flips, max_restarts, n):\n",
    "    \n",
    "    for i in range(max_restarts):\n",
    "\n",
    "        # create a random model\n",
    "        model = [choice([True, False]) for i in range(1, n+1)]\n",
    "\n",
    "        if resolve(clauses, model):\n",
    "            return True\n",
    "\n",
    "        for j in range(max_flips):\n",
    "            model = optimal_flip(clauses, model)\n",
    "\n",
    "            if resolve(clauses, model):\n",
    "                return True\n",
    "\n",
    "    return False"
   ]
  },
  {
   "cell_type": "markdown",
   "metadata": {},
   "source": [
    "## function \"resolve\"\n",
    "returns the truth value of a CNF expression given a model"
   ]
  },
  {
   "cell_type": "code",
   "execution_count": null,
   "metadata": {},
   "outputs": [],
   "source": [
    "def resolve(clauses, model):\n",
    "    \n",
    "    r_cnf = True\n",
    "    for clause in clauses:\n",
    "        r_clause = False\n",
    "        \n",
    "        for literal in clause:\n",
    "            if literal > 0:\n",
    "                if model[abs(literal) - 1]:\n",
    "                    r_clause = True\n",
    "            else:\n",
    "                if not model[abs(literal) - 1]:\n",
    "                    r_clause = True\n",
    "\n",
    "        if not r_clause:\n",
    "            r_cnf = False\n",
    "\n",
    "    return r_cnf"
   ]
  },
  {
   "cell_type": "markdown",
   "metadata": {},
   "source": [
    "## function \"optimal_flip\"\n",
    "returns model with variable flipped which maximizes the number of satisfied clauses"
   ]
  },
  {
   "cell_type": "code",
   "execution_count": null,
   "metadata": {},
   "outputs": [],
   "source": [
    "def optimal_flip(clauses, model):\n",
    "\n",
    "    flip_scores = []\n",
    "\n",
    "    for i in range(len(model)):\n",
    "        model[i] = not model[i]\n",
    "        score = 0\n",
    "\n",
    "        for clause in clauses:\n",
    "            if resolve([clause], model):\n",
    "                score += 1\n",
    "\n",
    "        flip_scores.append(score)\n",
    "        model[i] = not model[i]\n",
    "\n",
    "    index = flip_scores.index(max(flip_scores))\n",
    "    model[index] = not model[index]\n",
    "\n",
    "    return model"
   ]
  },
  {
   "cell_type": "markdown",
   "metadata": {},
   "source": [
    "## function \"gsat_auxi\"\n",
    "auxiliary function for calling gsat, required for parallel execution"
   ]
  },
  {
   "cell_type": "code",
   "execution_count": null,
   "metadata": {},
   "outputs": [],
   "source": [
    "def gsat_auxi(c):\n",
    "    return gsat(c, 7*n, 2*n, n)"
   ]
  },
  {
   "cell_type": "markdown",
   "metadata": {},
   "source": [
    "## function \"dll\"\n",
    "implements the dpll algorithm"
   ]
  },
  {
   "cell_type": "code",
   "execution_count": null,
   "metadata": {},
   "outputs": [],
   "source": [
    "def dll(clauses):\n",
    "    clauses = deepcopy(clauses)\n",
    "    \n",
    "    if len(clauses) == 0:\n",
    "        return True\n",
    "    \n",
    "    if len([True for clause in clauses if len(clause) == 0]) > 0:\n",
    "        return False\n",
    "\n",
    "    unit_clauses = []\n",
    "    for clause in clauses:\n",
    "        if len(clause) == 1:\n",
    "            unit_clauses.append(clause)\n",
    "\n",
    "    if len(unit_clauses) > 0:\n",
    "        literal = choice(unit_clauses)[0]\n",
    "        return dll(simplify(clauses, literal))\n",
    "\n",
    "    vs = []\n",
    "    for clause in clauses:\n",
    "        for literal in clause:\n",
    "            vs.append(literal)\n",
    "    v = choice(vs)\n",
    "\n",
    "    if dll(simplify(clauses, v)):\n",
    "        return True\n",
    "    else:\n",
    "        return dll(simplify(clauses, -v))"
   ]
  },
  {
   "cell_type": "markdown",
   "metadata": {},
   "source": [
    "## function \"simplify\"\n",
    "returns simplified CNF expression given the literal that is set to True"
   ]
  },
  {
   "cell_type": "code",
   "execution_count": null,
   "metadata": {},
   "outputs": [],
   "source": [
    "def simplify(clauses, literal):\n",
    "    result = deepcopy(clauses)\n",
    "    r_c = []\n",
    "    r_l = []\n",
    "\n",
    "    for i, clause in enumerate(clauses):\n",
    "        if literal in clause:\n",
    "            r_c.append(i)\n",
    "        elif -literal in clause:\n",
    "            r_l.append(i)\n",
    "\n",
    "    r_c = r_c[::-1]\n",
    "    r_l = r_l[::-1]\n",
    "\n",
    "    for i in r_l:\n",
    "        result[i].remove(-literal)\n",
    "    for i in r_c:\n",
    "        del result[i]\n",
    "\n",
    "    return result"
   ]
  },
  {
   "cell_type": "markdown",
   "metadata": {},
   "source": [
    "# Driver Code to demonstrate dpll and gsat algorithm"
   ]
  },
  {
   "cell_type": "code",
   "execution_count": null,
   "metadata": {},
   "outputs": [],
   "source": [
    "algo = \"dll\"\n",
    "k, n, cases = 3, 50, 10\n",
    "workers = Pool(processes = 6)\n",
    "x = []\n",
    "y1 = []\n",
    "y2 = []\n",
    "\n",
    "if algo == \"gsat\":\n",
    "    algo_fn = gsat_auxi\n",
    "elif algo == \"dll\":\n",
    "    algo_fn = dll\n",
    "else:\n",
    "    quit(\"\"\" Incorrect option for algorithm! \\nPlease use either \"gsat\" or \"dll\" \"\"\")\n",
    "\n",
    "for m in range(int(n/4), 8*n+1, int(n/4)):\n",
    "\n",
    "    inputs = [cnf(k, m, n) for i in range(cases)]\n",
    "\n",
    "    start_time = time()\n",
    "    output = workers.map(algo_fn, inputs)\n",
    "    call_time = time() - start_time\n",
    "\n",
    "    solvable = reduce(lambda x, y: x+y, output)\n",
    "\n",
    "    y1.append(solvable / cases)\n",
    "    y2.append(call_time)\n",
    "    x.append(m/n)\n",
    "\n",
    "    print(m/n)\n",
    "\n",
    "# Plotting via matplotlib\n",
    "fig,ax = plt.subplots(nrows=1, ncols=2, figsize=(25, 10))\n",
    "plt.subplots_adjust(wspace = 0.3, hspace = 0.3)\n",
    "ax[0].grid(b=True, which='major', color='#666666', linestyle='-')\n",
    "ax[0].minorticks_on()\n",
    "ax[0].grid(b=True, which='minor', color='#999999', linestyle='-', alpha=0.2)\n",
    "ax[1].grid(b=True, which='major', color='#666666', linestyle='-')\n",
    "ax[1].minorticks_on()\n",
    "ax[1].grid(b=True, which='minor', color='#999999', linestyle='-', alpha=0.2)\n",
    "\n",
    "ax[0].set_title(\"Probability vs Clause/Symbol\")\n",
    "ax[0].set_xlabel(\"Clause/Symbol Ratio or m/n\")\n",
    "ax[0].set_ylabel(\"Probability\")\n",
    "ax[1].set_title(\"Runtime\")\n",
    "ax[1].set_xlabel(\"Clause/Symbol Ratio or m/n\")\n",
    "ax[1].set_ylabel(\"Runtime(s)\")\n",
    "\n",
    "ax[0].plot(x, y1, label = \"Probability\", marker = 'o')\n",
    "ax[0].plot([4.3, 4.3], [0, 1], label = \"X = 4.3\", ls = '--', color = 'red')\n",
    "ax[1].plot(x, y2, label = \"Runtime in seconds\", marker = 'o')\n",
    "\n",
    "ax[0].legend()\n",
    "ax[1].legend()"
   ]
  }
 ],
 "metadata": {
  "kernelspec": {
   "display_name": "Python 3",
   "language": "python",
   "name": "python3"
  },
  "language_info": {
   "codemirror_mode": {
    "name": "ipython",
    "version": 3
   },
   "file_extension": ".py",
   "mimetype": "text/x-python",
   "name": "python",
   "nbconvert_exporter": "python",
   "pygments_lexer": "ipython3",
   "version": "3.6.8"
  }
 },
 "nbformat": 4,
 "nbformat_minor": 2
}
